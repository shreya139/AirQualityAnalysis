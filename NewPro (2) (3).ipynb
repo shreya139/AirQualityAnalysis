{
 "cells": [
  {
   "cell_type": "code",
   "execution_count": 1,
   "metadata": {
    "id": "a422f49d"
   },
   "outputs": [
    {
     "ename": "ModuleNotFoundError",
     "evalue": "No module named 'sklearn'",
     "output_type": "error",
     "traceback": [
      "\u001b[1;31m---------------------------------------------------------------------------\u001b[0m",
      "\u001b[1;31mModuleNotFoundError\u001b[0m                       Traceback (most recent call last)",
      "\u001b[1;32m<ipython-input-1-dd12ada69fca>\u001b[0m in \u001b[0;36m<module>\u001b[1;34m\u001b[0m\n\u001b[0;32m      5\u001b[0m \u001b[1;32mimport\u001b[0m \u001b[0mmissingno\u001b[0m \u001b[1;32mas\u001b[0m \u001b[0mmn\u001b[0m\u001b[1;33m\u001b[0m\u001b[1;33m\u001b[0m\u001b[0m\n\u001b[0;32m      6\u001b[0m \u001b[1;32mimport\u001b[0m \u001b[0mplotly\u001b[0m\u001b[1;33m.\u001b[0m\u001b[0mexpress\u001b[0m \u001b[1;32mas\u001b[0m \u001b[0mpex\u001b[0m\u001b[1;33m\u001b[0m\u001b[1;33m\u001b[0m\u001b[0m\n\u001b[1;32m----> 7\u001b[1;33m \u001b[1;32mfrom\u001b[0m \u001b[0msklearn\u001b[0m\u001b[1;33m.\u001b[0m\u001b[0mimpute\u001b[0m \u001b[1;32mimport\u001b[0m \u001b[0mKNNImputer\u001b[0m\u001b[1;33m\u001b[0m\u001b[1;33m\u001b[0m\u001b[0m\n\u001b[0m\u001b[0;32m      8\u001b[0m \u001b[1;31m# Disable warnings\u001b[0m\u001b[1;33m\u001b[0m\u001b[1;33m\u001b[0m\u001b[1;33m\u001b[0m\u001b[0m\n\u001b[0;32m      9\u001b[0m \u001b[1;32mimport\u001b[0m \u001b[0mwarnings\u001b[0m\u001b[1;33m\u001b[0m\u001b[1;33m\u001b[0m\u001b[0m\n",
      "\u001b[1;31mModuleNotFoundError\u001b[0m: No module named 'sklearn'"
     ]
    }
   ],
   "source": [
    "import pandas as pd\n",
    "import seaborn as sb\n",
    "import numpy as np\n",
    "import matplotlib.pyplot as plt\n",
    "import missingno as mn\n",
    "import plotly.express as pex\n",
    "from sklearn.impute import KNNImputer\n",
    "# Disable warnings \n",
    "import warnings\n",
    "warnings.filterwarnings('ignore')"
   ]
  },
  {
   "cell_type": "code",
   "execution_count": null,
   "metadata": {},
   "outputs": [],
   "source": []
  },
  {
   "cell_type": "code",
   "execution_count": null,
   "metadata": {
    "colab": {
     "base_uri": "https://localhost:8080/",
     "height": 424
    },
    "id": "b48d4712",
    "outputId": "3b36e46d-95b7-4e7d-bdce-10193df51117"
   },
   "outputs": [],
   "source": [
    "link = \"https://github.com/AminRane/AQI/blob/main/city_day.csv?raw=true\"\n",
    "df = pd.read_csv(link)\n",
    "df"
   ]
  },
  {
   "cell_type": "code",
   "execution_count": null,
   "metadata": {
    "colab": {
     "base_uri": "https://localhost:8080/"
    },
    "id": "bc6047d8",
    "outputId": "7d80c0e9-8fef-4b7a-8c75-6f5fe697d0e0",
    "scrolled": false
   },
   "outputs": [],
   "source": [
    "df.info()"
   ]
  },
  {
   "cell_type": "code",
   "execution_count": null,
   "metadata": {
    "colab": {
     "base_uri": "https://localhost:8080/"
    },
    "id": "fac3bf51",
    "outputId": "dde82822-b14d-4405-8dfd-43b027eaac26"
   },
   "outputs": [],
   "source": [
    "df.columns"
   ]
  },
  {
   "cell_type": "code",
   "execution_count": null,
   "metadata": {
    "colab": {
     "base_uri": "https://localhost:8080/",
     "height": 364
    },
    "id": "12ff8b75",
    "outputId": "03d9c0df-fe3c-4240-b08a-b9e55f444435",
    "scrolled": true
   },
   "outputs": [],
   "source": [
    "df.describe()"
   ]
  },
  {
   "cell_type": "code",
   "execution_count": null,
   "metadata": {
    "id": "e6b48bd8"
   },
   "outputs": [],
   "source": [
    "def createNullMatrix(city, columns = None):\n",
    "    if columns is None: \n",
    "        mn.matrix(city)\n",
    "    elif columns.lower() == 'pollutants':\n",
    "        mn.matrix(city[['PM2.5', 'PM10', 'NO', 'NO2', 'NOx', 'NH3', 'CO', 'SO2', 'O3']])"
   ]
  },
  {
   "cell_type": "code",
   "execution_count": null,
   "metadata": {},
   "outputs": [],
   "source": [
    "fig = pex.box(df['AQI'].astype(float))\n",
    "fig.show()"
   ]
  },
  {
   "cell_type": "code",
   "execution_count": null,
   "metadata": {
    "id": "1060671d"
   },
   "outputs": [],
   "source": [
    "df = df.drop(['AQI', 'AQI_Bucket'], axis=1)"
   ]
  },
  {
   "cell_type": "code",
   "execution_count": null,
   "metadata": {},
   "outputs": [],
   "source": [
    "createNullMatrix(df, columns = 'pollutants')"
   ]
  },
  {
   "cell_type": "code",
   "execution_count": null,
   "metadata": {},
   "outputs": [],
   "source": [
    "knn_imputer = KNNImputer(n_neighbors = 20)\n",
    "imputing_cols = [ 'PM2.5', 'PM10', 'NO', 'NO2', 'NOx', 'NH3', 'CO', 'SO2', 'O3']\n",
    "knn_imputer.fit(df[imputing_cols])\n",
    "imputed = knn_imputer.transform(df[imputing_cols])\n",
    "df.loc[:, imputing_cols] = imputed"
   ]
  },
  {
   "cell_type": "code",
   "execution_count": null,
   "metadata": {},
   "outputs": [],
   "source": [
    "createNullMatrix(df, columns = 'pollutants')"
   ]
  },
  {
   "cell_type": "code",
   "execution_count": null,
   "metadata": {
    "id": "f7569a1f"
   },
   "outputs": [],
   "source": [
    "def get_PM25_subindex(x):\n",
    "    if 0 <= x <= 30:\n",
    "        return (50 / 30) * x\n",
    "    elif x <= 60:\n",
    "        return ((100-51) / (60-31)) * (x - 31) + 51\n",
    "    elif x <= 90:\n",
    "        return ((200-101) / (90-61)) * (x - 61) + 101\n",
    "    elif x <= 120:\n",
    "        return ((300-201) / (120-91)) * (x - 91) + 201\n",
    "    elif x <= 250:\n",
    "        return ((400-301) / (250-121)) * (x - 121) + 301\n",
    "    elif x > 250:\n",
    "        return ((500-401) / (1000-251)) * (x - 251) + 401\n",
    "    else:\n",
    "        return 0"
   ]
  },
  {
   "cell_type": "code",
   "execution_count": null,
   "metadata": {
    "id": "8f8932c9"
   },
   "outputs": [],
   "source": [
    "def get_CO_subindex(x):\n",
    "    if 0 <= x <= 1:\n",
    "        return 50 * x\n",
    "    elif x <= 2:\n",
    "        return ((100-51) / (2-1.1)) * (x - 1.1) + 51\n",
    "    elif x <= 10:\n",
    "        return ((200-101) / (10-2.1)) * (x - 2.1) + 101\n",
    "    elif x <= 17:\n",
    "        return ((300-201) / (17-10.1)) * (x - 10.1) + 201\n",
    "    elif x <= 34:\n",
    "        return ((400-301) / (34-17.1)) * (x - 17.1) + 301\n",
    "    elif x > 34:\n",
    "        return ((500-401) / (100-34.1)) * (x - 34.1) + 401\n",
    "    else:\n",
    "        return 0"
   ]
  },
  {
   "cell_type": "code",
   "execution_count": null,
   "metadata": {
    "id": "6cb19f7f"
   },
   "outputs": [],
   "source": [
    "def get_PM10_subindex(x):\n",
    "    if 0 <= x <= 50:\n",
    "        return x\n",
    "    elif x <= 100:\n",
    "        return ((100-51) / (100-51)) * (x - 51) + 51\n",
    "    elif x <= 250:\n",
    "        return ((200-101) / (250-101)) * (x - 101) + 101\n",
    "    elif x <= 350:\n",
    "        return ((300-201) / (350-251)) * (x - 251) + 201\n",
    "    elif x <= 430:\n",
    "        return ((400-301) / (430-351)) * (x - 351) + 301\n",
    "    elif x > 430:\n",
    "        return ((500-401) / (1000-431)) * (x - 431) + 401\n",
    "    else:\n",
    "        return 0"
   ]
  },
  {
   "cell_type": "code",
   "execution_count": null,
   "metadata": {
    "id": "10159b5c"
   },
   "outputs": [],
   "source": [
    "def get_O3_subindex(x):\n",
    "    if 0 <= x <= 50:\n",
    "        return x\n",
    "    elif x <= 100:\n",
    "        return ((100-51) / (100-51)) * (x - 51) + 51\n",
    "    elif x <= 168:\n",
    "        return ((200-101) / (168-101)) * (x - 101) + 101\n",
    "    elif x <= 208:\n",
    "        return ((300-201) / (208-169)) * (x - 169) + 201\n",
    "    elif x <= 748:\n",
    "        return ((400-301) / (748-209)) * (x - 209) + 301\n",
    "    elif x > 748:\n",
    "        return ((500-401) / (2000-748)) * (x - 209) + 401\n",
    "    else:\n",
    "        return 0"
   ]
  },
  {
   "cell_type": "code",
   "execution_count": null,
   "metadata": {
    "id": "df8e4d3c"
   },
   "outputs": [],
   "source": [
    "def get_NO2_subindex(x):\n",
    "    if 0 <= x <= 40:\n",
    "        return (50/40)*x\n",
    "    elif x <= 80:\n",
    "        return ((100-51) / (80-41)) * (x - 41) + 51\n",
    "    elif x <= 180:\n",
    "        return ((200-101) / (180-81)) * (x - 81) + 101\n",
    "    elif x <= 280:\n",
    "        return ((300-201) / (280-181)) * (x - 181) + 201\n",
    "    elif x <= 281:\n",
    "        return ((400-301) / (400-281)) * (x - 281) + 301\n",
    "    elif x > 281:\n",
    "        return ((500-401) / (1000-431)) * (x - 431) + 401\n",
    "    else:\n",
    "        return 0"
   ]
  },
  {
   "cell_type": "code",
   "execution_count": null,
   "metadata": {
    "id": "bda21353"
   },
   "outputs": [],
   "source": [
    "def get_SO2_subindex(x):\n",
    "    if 0 <= x <= 40:\n",
    "        return (50/40)*x\n",
    "    elif x <= 80:\n",
    "        return ((100-51) / (80-41)) * (x - 41) + 51\n",
    "    elif x <= 380:\n",
    "        return ((200-101) / abs(81-380)) * (x - 81) + 101\n",
    "    elif x <= 800:\n",
    "        return ((300-201) / abs(381-800)) * (x - 381) + 201\n",
    "    elif x <= 1600:\n",
    "        return ((400-301) / abs(801-1600)) * (x - 801) + 301\n",
    "    elif x > 1600:\n",
    "        return ((500-401) / abs(1600-3000)) * (x - 1600) + 401\n",
    "    else:\n",
    "        return 0"
   ]
  },
  {
   "cell_type": "code",
   "execution_count": null,
   "metadata": {
    "id": "8785e740"
   },
   "outputs": [],
   "source": [
    "def get_NH3_subindex(x):\n",
    "    if 0 <= x <= 200:\n",
    "        return (50/200) * x\n",
    "    elif x <= 400:\n",
    "        return ((100-51) / abs(201-400)) * (x - 201) + 51\n",
    "    elif x <= 800:\n",
    "        return ((200-101) / abs(401-800)) * (x - 401) + 101\n",
    "    elif x <= 1200:\n",
    "        return ((300-201) / abs(801-1200)) * (x - 801) + 201\n",
    "    elif x <= 1800:\n",
    "        return ((400-301) / abs(1201-1800)) * (x - 1201) + 301\n",
    "    elif x > 1800:\n",
    "        return ((500-401) / abs(1801-3000)) * (x - 1801) + 401\n",
    "    else:\n",
    "        return 0"
   ]
  },
  {
   "cell_type": "code",
   "execution_count": null,
   "metadata": {
    "id": "60cdabe4"
   },
   "outputs": [],
   "source": [
    "def calcSubIndex(city):\n",
    "    city[\"PM25_subindex\"] = city[\"PM2.5\"].apply(lambda x: get_PM25_subindex(x))\n",
    "    city[\"CO_subindex\"] = city[\"CO\"].apply(lambda x: get_CO_subindex(x))\n",
    "    city[\"PM10_subindex\"] = city[\"PM10\"].apply(lambda x: get_PM10_subindex(x))\n",
    "    city[\"O3_subindex\"] = city[\"O3\"].apply(lambda x: get_O3_subindex(x))\n",
    "    city[\"NO2_subindex\"] = city[\"NO2\"].apply(lambda x: get_NO2_subindex(x))\n",
    "    city[\"SO2_subindex\"] = city[\"SO2\"].apply(lambda x: get_SO2_subindex(x))\n",
    "    city[\"NH3_subindex\"] = city[\"NH3\"].apply(lambda x: get_NH3_subindex(x))"
   ]
  },
  {
   "cell_type": "code",
   "execution_count": null,
   "metadata": {
    "id": "f305d67f"
   },
   "outputs": [],
   "source": [
    "def calcAQI(city):\n",
    "    calcSubIndex(city)\n",
    "    city['AQI'] = city[['PM25_subindex', 'CO_subindex', 'PM10_subindex', 'O3_subindex',\n",
    "       'NO2_subindex', 'SO2_subindex', 'NH3_subindex']].max(axis = 1)"
   ]
  },
  {
   "cell_type": "code",
   "execution_count": null,
   "metadata": {
    "id": "6aef9d91"
   },
   "outputs": [],
   "source": [
    "calcAQI(df)"
   ]
  },
  {
   "cell_type": "code",
   "execution_count": null,
   "metadata": {
    "id": "5682317b"
   },
   "outputs": [],
   "source": [
    "def dateTime(city):\n",
    "    city['Datetime'] = pd.to_datetime(city['Date'])\n",
    "    city['Year'] = city['Datetime'].dt.year\n",
    "    city['Month'] = city['Datetime'].dt.month\n",
    "    del city['Date']"
   ]
  },
  {
   "cell_type": "code",
   "execution_count": null,
   "metadata": {
    "id": "b26d7d58"
   },
   "outputs": [],
   "source": [
    "dateTime(df)"
   ]
  },
  {
   "cell_type": "code",
   "execution_count": null,
   "metadata": {
    "id": "881e7505"
   },
   "outputs": [],
   "source": [
    "def get_scale(x):\n",
    "    if 0 <= x <= 50: return \"Good\"\n",
    "    elif x <=100: return \"Satisfactory\"\n",
    "    elif x <=200: return \"Moderate\"\n",
    "    elif x <=300: return \"Poor\"\n",
    "    elif x <=400: return \"Very Poor\"\n",
    "    else: return \"Hazardous\""
   ]
  },
  {
   "cell_type": "code",
   "execution_count": null,
   "metadata": {
    "id": "c3650338"
   },
   "outputs": [],
   "source": [
    "def calcAQIScale(city):\n",
    "    city[\"AQI_Scale\"] = city[\"AQI\"].apply(lambda x: get_scale(x))"
   ]
  },
  {
   "cell_type": "code",
   "execution_count": null,
   "metadata": {
    "id": "83b8c6db"
   },
   "outputs": [],
   "source": [
    "calcAQIScale(df)"
   ]
  },
  {
   "cell_type": "code",
   "execution_count": null,
   "metadata": {},
   "outputs": [],
   "source": [
    "df.columns"
   ]
  },
  {
   "cell_type": "code",
   "execution_count": null,
   "metadata": {},
   "outputs": [],
   "source": [
    "df = df.drop(['PM25_subindex', 'CO_subindex',\n",
    "       'PM10_subindex', 'O3_subindex', 'NO2_subindex', 'SO2_subindex',\n",
    "       'NH3_subindex'], axis = 1)"
   ]
  },
  {
   "cell_type": "code",
   "execution_count": null,
   "metadata": {
    "colab": {
     "base_uri": "https://localhost:8080/",
     "height": 741
    },
    "id": "4fd075a9",
    "outputId": "5fcf6641-f748-4d0f-f0ce-dd081d46c030"
   },
   "outputs": [],
   "source": [
    "df.corr()"
   ]
  },
  {
   "cell_type": "code",
   "execution_count": null,
   "metadata": {
    "colab": {
     "base_uri": "https://localhost:8080/",
     "height": 926
    },
    "id": "6a87b00c",
    "outputId": "0b44145a-5d19-4c6b-b6c8-e439055ab1ee"
   },
   "outputs": [],
   "source": [
    "plt.figure(figsize=(20,10))\n",
    "sb.heatmap(df.corr(), annot = True)\n",
    "plt.show()"
   ]
  },
  {
   "cell_type": "code",
   "execution_count": null,
   "metadata": {
    "colab": {
     "base_uri": "https://localhost:8080/",
     "height": 1000
    },
    "id": "zjqlqkKPYlge",
    "outputId": "6f8d278c-b80f-4bac-aba7-0c27df94291a"
   },
   "outputs": [],
   "source": [
    "variables = ['PM2.5','PM10','NO','NO2','NOx','NH3','CO','SO2','O3']\n",
    "\n",
    "for variable in variables:\n",
    "    fig = pex.scatter(df, x = 'AQI', y = variable, color='Year', title = 'Relation between {} and AQI'.format(variable))\n",
    "    fig.show()"
   ]
  },
  {
   "cell_type": "code",
   "execution_count": null,
   "metadata": {
    "id": "60df75aa"
   },
   "outputs": [],
   "source": [
    "city_wise = df.copy()\n",
    "city_wise = city_wise.groupby(['City'])[['PM2.5', 'PM10', 'NO', 'NO2', 'NOx', 'NH3', 'CO', 'SO2',\n",
    "       'O3', 'AQI']].median().reset_index()\n",
    "for col in city_wise.columns[1:]:\n",
    "    city_wise[col] = round(city_wise[col],2)"
   ]
  },
  {
   "cell_type": "code",
   "execution_count": null,
   "metadata": {
    "colab": {
     "base_uri": "https://localhost:8080/",
     "height": 1000
    },
    "id": "2ogB7HH3UOut",
    "outputId": "556a1e31-739e-4b3a-d6f4-4ba7c3657a60"
   },
   "outputs": [],
   "source": [
    "for col in city_wise.columns[1:]:\n",
    "    fig = pex.bar(city_wise.sort_values(by=col,ascending=True),\n",
    "                  x=\"City\",y=col,color=col,text=col,title=col,\n",
    "                 color_continuous_scale=[\"orange\", \"red\",\n",
    "                                         \"green\", \"blue\",\n",
    "                                         \"purple\"])\n",
    "    fig.update_traces(textposition='outside')\n",
    "    fig.show()"
   ]
  },
  {
   "cell_type": "code",
   "execution_count": null,
   "metadata": {
    "id": "d8d1a3cb"
   },
   "outputs": [],
   "source": [
    "newDf = df.groupby(['Year','City'])['AQI'].median().reset_index()"
   ]
  },
  {
   "cell_type": "code",
   "execution_count": null,
   "metadata": {
    "colab": {
     "base_uri": "https://localhost:8080/",
     "height": 542
    },
    "id": "Fz1Q0OopW7MN",
    "outputId": "08413593-ce86-4603-9111-f11343635d12"
   },
   "outputs": [],
   "source": [
    "fig = pex.histogram(newDf, x = \"City\", y = \"AQI\", color = 'Year',\n",
    "                    color_discrete_sequence=[\"red\", \"blue\",\n",
    "                 \"orange\", \"green\", \"yellow\", \"purple\"], barmode = 'group')\n",
    "fig.show()"
   ]
  },
  {
   "cell_type": "code",
   "execution_count": null,
   "metadata": {
    "colab": {
     "base_uri": "https://localhost:8080/",
     "height": 1000
    },
    "id": "0934e1d3",
    "outputId": "5d7f00b3-aa4b-4434-c736-757cdde21bc8"
   },
   "outputs": [],
   "source": [
    "fig=plt.figure(figsize=(20,40))\n",
    "for i,col in enumerate(variables):\n",
    "    fig.add_subplot(6,2,i+1)\n",
    "    sb.lineplot(x='Year',y=col,data=df).set(title=col+' over the Years')"
   ]
  },
  {
   "cell_type": "code",
   "execution_count": null,
   "metadata": {
    "colab": {
     "base_uri": "https://localhost:8080/",
     "height": 586
    },
    "id": "cead646b",
    "outputId": "ae519787-02f5-4064-ba3d-6aa8aadbcc4a"
   },
   "outputs": [],
   "source": [
    "def plotCityAQIScale(city):\n",
    "    plt.figure(figsize=(10,8))\n",
    "    x=df[df['City']==city].groupby(['AQI_Scale'])[[\"AQI\"]].count().sort_values(\"AQI\", ascending=False)\n",
    "    \n",
    "    explode=[0.2,0,0,0,0,0]\n",
    "    x['AQI'].plot.pie(shadow=True,autopct='%1.1f%%',\n",
    "                       explode=explode,\n",
    "                   wedgeprops={'edgecolor':'black','linewidth':0.3}\n",
    "                   ).set(title = 'Distribution of Quality of Air in '+city)\n",
    "    plt.show()\n",
    "    \n",
    "print(df['City'].unique())\n",
    "plotCityAQIScale(input('Enter the city: '))"
   ]
  },
  {
   "cell_type": "code",
   "execution_count": null,
   "metadata": {
    "colab": {
     "base_uri": "https://localhost:8080/",
     "height": 1000
    },
    "id": "b0d4d347",
    "outputId": "5969dc6b-074d-45a3-8dae-f9ca9cd6c96b"
   },
   "outputs": [],
   "source": [
    "fig = plt.figure(figsize=(20,20))\n",
    "for i, year in enumerate([2015,2016,2017,2018,2019,2020]):\n",
    "  fig.add_subplot(3, 2, i+1)\n",
    "  leastPolluted = df[df['Year']==year].groupby('City', as_index=False)[['AQI']].mean().sort_values(['AQI']).reset_index()\n",
    "  leastPolluted = leastPolluted.head(4)\n",
    "  sb.barplot(x = 'City', y = 'AQI', data = leastPolluted).set(title = '4 Least polluted cities in '+str(year))"
   ]
  },
  {
   "cell_type": "code",
   "execution_count": null,
   "metadata": {
    "colab": {
     "base_uri": "https://localhost:8080/",
     "height": 1000
    },
    "id": "AkGfK6IIm24m",
    "outputId": "f4e87d59-8947-4a76-8e1b-ca60aa91a381"
   },
   "outputs": [],
   "source": [
    "fig = plt.figure(figsize=(20,20))\n",
    "for i, year in enumerate([2015,2016,2017,2018,2019,2020]):\n",
    "  fig.add_subplot(3, 2, i+1)\n",
    "  mostPolluted = df[df['Year']==year].groupby('City', as_index=False)[['AQI']].mean().sort_values(['AQI'], ascending = False).reset_index()\n",
    "  mostPolluted = mostPolluted.head(4)\n",
    "  sb.barplot(x = 'City', y = 'AQI', data = mostPolluted).set(title = '4 Most polluted cities in '+str(year))"
   ]
  },
  {
   "cell_type": "code",
   "execution_count": null,
   "metadata": {
    "id": "9ldrPBv5_I3K"
   },
   "outputs": [],
   "source": [
    "def histAQI(city):\n",
    "  title = ''\n",
    "  if city.lower() == 'all':\n",
    "    data = df\n",
    "  else:\n",
    "    data = df[df['City']==city]\n",
    "    title = 'for ' + city\n",
    "  fig = pex.histogram(data_frame = data, x = 'AQI', nbins = 100,histnorm = 'probability density', title = 'Histogram of AQI Distribution '+title)\n",
    "  fig.show()"
   ]
  },
  {
   "cell_type": "code",
   "execution_count": null,
   "metadata": {
    "colab": {
     "base_uri": "https://localhost:8080/",
     "height": 646
    },
    "id": "3XERFiAsBBNF",
    "outputId": "1c086492-6b93-497e-e0ee-96d0e0cee432"
   },
   "outputs": [],
   "source": [
    "print(df['City'].unique())\n",
    "histAQI(input(\"Enter city name or 'All' for every city: \"))"
   ]
  },
  {
   "cell_type": "code",
   "execution_count": null,
   "metadata": {
    "id": "PlXypFl1HQe5"
   },
   "outputs": [],
   "source": [
    "def PollutantsLineOverYears(city, poll = 'AQI'):\n",
    "  title = ''\n",
    "  if city.lower() == 'all':\n",
    "    data = df\n",
    "  else:\n",
    "    data = df[df['City']==city]\n",
    "    title = city\n",
    "  city = data.groupby(['Year','Month'], as_index=False)[[poll]].mean().reset_index()\n",
    "  fig = pex.line(data_frame = city, x = 'Month', y = poll, color = 'Year', title = poll+' Distribution over Years: '+title)\n",
    "  fig.show()"
   ]
  },
  {
   "cell_type": "code",
   "execution_count": null,
   "metadata": {
    "colab": {
     "base_uri": "https://localhost:8080/",
     "height": 559
    },
    "id": "pTlANAMBDuZE",
    "outputId": "5bec02d8-60c7-4150-d096-d6b8798f4f7b"
   },
   "outputs": [],
   "source": [
    "city = input(\"Enter city name or 'All' for every city: \")\n",
    "PollutantsLineOverYears(city)"
   ]
  },
  {
   "cell_type": "code",
   "execution_count": null,
   "metadata": {
    "colab": {
     "base_uri": "https://localhost:8080/",
     "height": 577
    },
    "id": "bhDgYueMHL2N",
    "outputId": "0188b3b3-2509-4843-942a-28076a4d2e81",
    "scrolled": false
   },
   "outputs": [],
   "source": [
    "city = input(\"Enter city name or 'All' for every city: \")\n",
    "pollutant = input(\"Enter the pollutant: \")\n",
    "PollutantsLineOverYears(city, poll = pollutant)"
   ]
  },
  {
   "cell_type": "code",
   "execution_count": null,
   "metadata": {},
   "outputs": [],
   "source": [
    "def cityColTrend(city, col):\n",
    "    data = df[df['City'] == city]\n",
    "    fig = pex.line(data_frame = data, x = 'Datetime', y = col, title = col + \": \" + city)\n",
    "    fig.show()"
   ]
  },
  {
   "cell_type": "code",
   "execution_count": null,
   "metadata": {},
   "outputs": [],
   "source": [
    "cityColTrend('Delhi', 'AQI')"
   ]
  },
  {
   "cell_type": "code",
   "execution_count": null,
   "metadata": {
    "id": "7UN030EhEPuE"
   },
   "outputs": [],
   "source": [
    "dfLockdown = df[df['Datetime']>'2020-02-20']\n",
    "print(dfLockdown['Datetime'].max())"
   ]
  },
  {
   "cell_type": "code",
   "execution_count": null,
   "metadata": {},
   "outputs": [],
   "source": [
    "new = df[(df['Month'] >= 2) & (df['Month'] < 7)]\n",
    "new"
   ]
  },
  {
   "cell_type": "code",
   "execution_count": null,
   "metadata": {},
   "outputs": [],
   "source": [
    "cols = ['PM2.5', 'PM10', 'NO2', 'NH3', 'CO', 'SO2', 'O3', 'AQI']\n",
    "groupedData = new.groupby(['Year', 'Month'])[cols].mean().reset_index()\n",
    "groupedData.head()"
   ]
  },
  {
   "cell_type": "code",
   "execution_count": null,
   "metadata": {},
   "outputs": [],
   "source": [
    "for col in cols:\n",
    "    fig = pex.line(data_frame = groupedData, x = 'Month', y = col, color = 'Year', title = col)\n",
    "    fig.show()"
   ]
  },
  {
   "cell_type": "code",
   "execution_count": null,
   "metadata": {},
   "outputs": [],
   "source": [
    "def MovingNAverage(rows, df):\n",
    "    df['MovingNAverage'] = 0\n",
    "    for i in range(rows, len(df)):\n",
    "        for n in range(1, rows+1):\n",
    "            df.loc[i, 'MovingNAverage'] += df.loc[i-n, 'AQI']\n",
    "    df.loc[:, 'MovingNAverage'] /= rows\n",
    "    df.loc[:rows-1, 'MovingNAverage'] = np.nan"
   ]
  },
  {
   "cell_type": "code",
   "execution_count": null,
   "metadata": {},
   "outputs": [],
   "source": [
    "delhi = df[df['City'] == 'Delhi'].reset_index()"
   ]
  },
  {
   "cell_type": "code",
   "execution_count": null,
   "metadata": {
    "scrolled": false
   },
   "outputs": [],
   "source": [
    "MovingNAverage(3, delhi)\n",
    "\n",
    "plt.figure(figsize = (20,10))\n",
    "sb.lineplot(delhi.Datetime, delhi.AQI)\n",
    "\n",
    "plot = sb.lineplot(delhi.Datetime,\n",
    "             delhi.MovingNAverage, \n",
    "              color = 'red')\n",
    "\n",
    "plot.legend(title='legends', loc='upper left',\n",
    "           labels=['Actual', 'Prediction By Moving average'])\n",
    "\n",
    "plot.set_ylabel('AQI index');\n",
    "plot.set_xlabel('Date');"
   ]
  }
 ],
 "metadata": {
  "colab": {
   "collapsed_sections": [],
   "provenance": []
  },
  "kernelspec": {
   "display_name": "Python 3",
   "language": "python",
   "name": "python3"
  },
  "language_info": {
   "codemirror_mode": {
    "name": "ipython",
    "version": 3
   },
   "file_extension": ".py",
   "mimetype": "text/x-python",
   "name": "python",
   "nbconvert_exporter": "python",
   "pygments_lexer": "ipython3",
   "version": "3.9.1"
  }
 },
 "nbformat": 4,
 "nbformat_minor": 5
}
